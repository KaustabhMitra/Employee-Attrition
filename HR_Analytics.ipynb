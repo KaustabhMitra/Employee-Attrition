{
  "nbformat": 4,
  "nbformat_minor": 0,
  "metadata": {
    "colab": {
      "provenance": []
    },
    "kernelspec": {
      "name": "python3",
      "display_name": "Python 3"
    },
    "language_info": {
      "name": "python"
    }
  },
  "cells": [
    {
      "cell_type": "markdown",
      "source": [
        "# Step 1: Import Libraries\n"
      ],
      "metadata": {
        "id": "ls_zUlJIF4Al"
      }
    },
    {
      "cell_type": "code",
      "execution_count": null,
      "metadata": {
        "id": "smQLCuS-FuC4"
      },
      "outputs": [],
      "source": [
        "import pandas as pd\n",
        "import numpy as np\n",
        "import matplotlib.pyplot as plt\n",
        "import seaborn as sns\n",
        "from sklearn.model_selection import train_test_split\n",
        "from sklearn.preprocessing import LabelEncoder, StandardScaler\n",
        "from sklearn.ensemble import RandomForestClassifier\n",
        "from sklearn.metrics import classification_report, confusion_matrix\n",
        "import warnings\n",
        "warnings.filterwarnings(\"ignore\")"
      ]
    },
    {
      "cell_type": "markdown",
      "source": [
        "# Step 2: Load the Dataset\n"
      ],
      "metadata": {
        "id": "yYvuzH82IG_p"
      }
    },
    {
      "cell_type": "code",
      "source": [
        "file_path = '/content/HR_Analytics_GROUP_2.csv'\n",
        "df = pd.read_csv(file_path)"
      ],
      "metadata": {
        "id": "xsFUM6z1IIIE"
      },
      "execution_count": null,
      "outputs": []
    },
    {
      "cell_type": "markdown",
      "source": [
        "# Step 3: Initial Exploration\n"
      ],
      "metadata": {
        "id": "TWuhwpDcIOGg"
      }
    },
    {
      "cell_type": "code",
      "source": [
        "df.head()"
      ],
      "metadata": {
        "colab": {
          "base_uri": "https://localhost:8080/",
          "height": 307
        },
        "id": "7WDj4b86IRFN",
        "outputId": "7027c6b9-bf72-4563-df4e-7f4ef7e8a11d"
      },
      "execution_count": null,
      "outputs": [
        {
          "output_type": "execute_result",
          "data": {
            "text/plain": [
              "   EmpID  Age AgeGroup Attrition     BusinessTravel  DailyRate  \\\n",
              "0  RM297   18    18-25       Yes      Travel_Rarely        230   \n",
              "1  RM302   18    18-25        No      Travel_Rarely        812   \n",
              "2  RM458   18    18-25       Yes  Travel_Frequently       1306   \n",
              "3  RM728   18    18-25        No         Non-Travel        287   \n",
              "4  RM829   18    18-25       Yes         Non-Travel        247   \n",
              "\n",
              "               Department  DistanceFromHome  Education EducationField  ...  \\\n",
              "0  Research & Development                 3          3  Life Sciences  ...   \n",
              "1                   Sales                10          3        Medical  ...   \n",
              "2                   Sales                 5          3      Marketing  ...   \n",
              "3  Research & Development                 5          2  Life Sciences  ...   \n",
              "4  Research & Development                 8          1        Medical  ...   \n",
              "\n",
              "   RelationshipSatisfaction  StandardHours  StockOptionLevel  \\\n",
              "0                         3             80                 0   \n",
              "1                         1             80                 0   \n",
              "2                         4             80                 0   \n",
              "3                         4             80                 0   \n",
              "4                         4             80                 0   \n",
              "\n",
              "  TotalWorkingYears  TrainingTimesLastYear  WorkLifeBalance  YearsAtCompany  \\\n",
              "0                 0                      2                3               0   \n",
              "1                 0                      2                3               0   \n",
              "2                 0                      3                3               0   \n",
              "3                 0                      2                3               0   \n",
              "4                 0                      0                3               0   \n",
              "\n",
              "  YearsInCurrentRole  YearsSinceLastPromotion YearsWithCurrManager  \n",
              "0                  0                        0                  0.0  \n",
              "1                  0                        0                  0.0  \n",
              "2                  0                        0                  0.0  \n",
              "3                  0                        0                  0.0  \n",
              "4                  0                        0                  0.0  \n",
              "\n",
              "[5 rows x 38 columns]"
            ],
            "text/html": [
              "\n",
              "  <div id=\"df-36cbda8c-f729-4b97-9058-5111b082eb1b\" class=\"colab-df-container\">\n",
              "    <div>\n",
              "<style scoped>\n",
              "    .dataframe tbody tr th:only-of-type {\n",
              "        vertical-align: middle;\n",
              "    }\n",
              "\n",
              "    .dataframe tbody tr th {\n",
              "        vertical-align: top;\n",
              "    }\n",
              "\n",
              "    .dataframe thead th {\n",
              "        text-align: right;\n",
              "    }\n",
              "</style>\n",
              "<table border=\"1\" class=\"dataframe\">\n",
              "  <thead>\n",
              "    <tr style=\"text-align: right;\">\n",
              "      <th></th>\n",
              "      <th>EmpID</th>\n",
              "      <th>Age</th>\n",
              "      <th>AgeGroup</th>\n",
              "      <th>Attrition</th>\n",
              "      <th>BusinessTravel</th>\n",
              "      <th>DailyRate</th>\n",
              "      <th>Department</th>\n",
              "      <th>DistanceFromHome</th>\n",
              "      <th>Education</th>\n",
              "      <th>EducationField</th>\n",
              "      <th>...</th>\n",
              "      <th>RelationshipSatisfaction</th>\n",
              "      <th>StandardHours</th>\n",
              "      <th>StockOptionLevel</th>\n",
              "      <th>TotalWorkingYears</th>\n",
              "      <th>TrainingTimesLastYear</th>\n",
              "      <th>WorkLifeBalance</th>\n",
              "      <th>YearsAtCompany</th>\n",
              "      <th>YearsInCurrentRole</th>\n",
              "      <th>YearsSinceLastPromotion</th>\n",
              "      <th>YearsWithCurrManager</th>\n",
              "    </tr>\n",
              "  </thead>\n",
              "  <tbody>\n",
              "    <tr>\n",
              "      <th>0</th>\n",
              "      <td>RM297</td>\n",
              "      <td>18</td>\n",
              "      <td>18-25</td>\n",
              "      <td>Yes</td>\n",
              "      <td>Travel_Rarely</td>\n",
              "      <td>230</td>\n",
              "      <td>Research &amp; Development</td>\n",
              "      <td>3</td>\n",
              "      <td>3</td>\n",
              "      <td>Life Sciences</td>\n",
              "      <td>...</td>\n",
              "      <td>3</td>\n",
              "      <td>80</td>\n",
              "      <td>0</td>\n",
              "      <td>0</td>\n",
              "      <td>2</td>\n",
              "      <td>3</td>\n",
              "      <td>0</td>\n",
              "      <td>0</td>\n",
              "      <td>0</td>\n",
              "      <td>0.0</td>\n",
              "    </tr>\n",
              "    <tr>\n",
              "      <th>1</th>\n",
              "      <td>RM302</td>\n",
              "      <td>18</td>\n",
              "      <td>18-25</td>\n",
              "      <td>No</td>\n",
              "      <td>Travel_Rarely</td>\n",
              "      <td>812</td>\n",
              "      <td>Sales</td>\n",
              "      <td>10</td>\n",
              "      <td>3</td>\n",
              "      <td>Medical</td>\n",
              "      <td>...</td>\n",
              "      <td>1</td>\n",
              "      <td>80</td>\n",
              "      <td>0</td>\n",
              "      <td>0</td>\n",
              "      <td>2</td>\n",
              "      <td>3</td>\n",
              "      <td>0</td>\n",
              "      <td>0</td>\n",
              "      <td>0</td>\n",
              "      <td>0.0</td>\n",
              "    </tr>\n",
              "    <tr>\n",
              "      <th>2</th>\n",
              "      <td>RM458</td>\n",
              "      <td>18</td>\n",
              "      <td>18-25</td>\n",
              "      <td>Yes</td>\n",
              "      <td>Travel_Frequently</td>\n",
              "      <td>1306</td>\n",
              "      <td>Sales</td>\n",
              "      <td>5</td>\n",
              "      <td>3</td>\n",
              "      <td>Marketing</td>\n",
              "      <td>...</td>\n",
              "      <td>4</td>\n",
              "      <td>80</td>\n",
              "      <td>0</td>\n",
              "      <td>0</td>\n",
              "      <td>3</td>\n",
              "      <td>3</td>\n",
              "      <td>0</td>\n",
              "      <td>0</td>\n",
              "      <td>0</td>\n",
              "      <td>0.0</td>\n",
              "    </tr>\n",
              "    <tr>\n",
              "      <th>3</th>\n",
              "      <td>RM728</td>\n",
              "      <td>18</td>\n",
              "      <td>18-25</td>\n",
              "      <td>No</td>\n",
              "      <td>Non-Travel</td>\n",
              "      <td>287</td>\n",
              "      <td>Research &amp; Development</td>\n",
              "      <td>5</td>\n",
              "      <td>2</td>\n",
              "      <td>Life Sciences</td>\n",
              "      <td>...</td>\n",
              "      <td>4</td>\n",
              "      <td>80</td>\n",
              "      <td>0</td>\n",
              "      <td>0</td>\n",
              "      <td>2</td>\n",
              "      <td>3</td>\n",
              "      <td>0</td>\n",
              "      <td>0</td>\n",
              "      <td>0</td>\n",
              "      <td>0.0</td>\n",
              "    </tr>\n",
              "    <tr>\n",
              "      <th>4</th>\n",
              "      <td>RM829</td>\n",
              "      <td>18</td>\n",
              "      <td>18-25</td>\n",
              "      <td>Yes</td>\n",
              "      <td>Non-Travel</td>\n",
              "      <td>247</td>\n",
              "      <td>Research &amp; Development</td>\n",
              "      <td>8</td>\n",
              "      <td>1</td>\n",
              "      <td>Medical</td>\n",
              "      <td>...</td>\n",
              "      <td>4</td>\n",
              "      <td>80</td>\n",
              "      <td>0</td>\n",
              "      <td>0</td>\n",
              "      <td>0</td>\n",
              "      <td>3</td>\n",
              "      <td>0</td>\n",
              "      <td>0</td>\n",
              "      <td>0</td>\n",
              "      <td>0.0</td>\n",
              "    </tr>\n",
              "  </tbody>\n",
              "</table>\n",
              "<p>5 rows × 38 columns</p>\n",
              "</div>\n",
              "    <div class=\"colab-df-buttons\">\n",
              "\n",
              "  <div class=\"colab-df-container\">\n",
              "    <button class=\"colab-df-convert\" onclick=\"convertToInteractive('df-36cbda8c-f729-4b97-9058-5111b082eb1b')\"\n",
              "            title=\"Convert this dataframe to an interactive table.\"\n",
              "            style=\"display:none;\">\n",
              "\n",
              "  <svg xmlns=\"http://www.w3.org/2000/svg\" height=\"24px\" viewBox=\"0 -960 960 960\">\n",
              "    <path d=\"M120-120v-720h720v720H120Zm60-500h600v-160H180v160Zm220 220h160v-160H400v160Zm0 220h160v-160H400v160ZM180-400h160v-160H180v160Zm440 0h160v-160H620v160ZM180-180h160v-160H180v160Zm440 0h160v-160H620v160Z\"/>\n",
              "  </svg>\n",
              "    </button>\n",
              "\n",
              "  <style>\n",
              "    .colab-df-container {\n",
              "      display:flex;\n",
              "      gap: 12px;\n",
              "    }\n",
              "\n",
              "    .colab-df-convert {\n",
              "      background-color: #E8F0FE;\n",
              "      border: none;\n",
              "      border-radius: 50%;\n",
              "      cursor: pointer;\n",
              "      display: none;\n",
              "      fill: #1967D2;\n",
              "      height: 32px;\n",
              "      padding: 0 0 0 0;\n",
              "      width: 32px;\n",
              "    }\n",
              "\n",
              "    .colab-df-convert:hover {\n",
              "      background-color: #E2EBFA;\n",
              "      box-shadow: 0px 1px 2px rgba(60, 64, 67, 0.3), 0px 1px 3px 1px rgba(60, 64, 67, 0.15);\n",
              "      fill: #174EA6;\n",
              "    }\n",
              "\n",
              "    .colab-df-buttons div {\n",
              "      margin-bottom: 4px;\n",
              "    }\n",
              "\n",
              "    [theme=dark] .colab-df-convert {\n",
              "      background-color: #3B4455;\n",
              "      fill: #D2E3FC;\n",
              "    }\n",
              "\n",
              "    [theme=dark] .colab-df-convert:hover {\n",
              "      background-color: #434B5C;\n",
              "      box-shadow: 0px 1px 3px 1px rgba(0, 0, 0, 0.15);\n",
              "      filter: drop-shadow(0px 1px 2px rgba(0, 0, 0, 0.3));\n",
              "      fill: #FFFFFF;\n",
              "    }\n",
              "  </style>\n",
              "\n",
              "    <script>\n",
              "      const buttonEl =\n",
              "        document.querySelector('#df-36cbda8c-f729-4b97-9058-5111b082eb1b button.colab-df-convert');\n",
              "      buttonEl.style.display =\n",
              "        google.colab.kernel.accessAllowed ? 'block' : 'none';\n",
              "\n",
              "      async function convertToInteractive(key) {\n",
              "        const element = document.querySelector('#df-36cbda8c-f729-4b97-9058-5111b082eb1b');\n",
              "        const dataTable =\n",
              "          await google.colab.kernel.invokeFunction('convertToInteractive',\n",
              "                                                    [key], {});\n",
              "        if (!dataTable) return;\n",
              "\n",
              "        const docLinkHtml = 'Like what you see? Visit the ' +\n",
              "          '<a target=\"_blank\" href=https://colab.research.google.com/notebooks/data_table.ipynb>data table notebook</a>'\n",
              "          + ' to learn more about interactive tables.';\n",
              "        element.innerHTML = '';\n",
              "        dataTable['output_type'] = 'display_data';\n",
              "        await google.colab.output.renderOutput(dataTable, element);\n",
              "        const docLink = document.createElement('div');\n",
              "        docLink.innerHTML = docLinkHtml;\n",
              "        element.appendChild(docLink);\n",
              "      }\n",
              "    </script>\n",
              "  </div>\n",
              "\n",
              "\n",
              "<div id=\"df-a0f5f415-8fa4-45d6-8fe7-73a70f6a1e83\">\n",
              "  <button class=\"colab-df-quickchart\" onclick=\"quickchart('df-a0f5f415-8fa4-45d6-8fe7-73a70f6a1e83')\"\n",
              "            title=\"Suggest charts\"\n",
              "            style=\"display:none;\">\n",
              "\n",
              "<svg xmlns=\"http://www.w3.org/2000/svg\" height=\"24px\"viewBox=\"0 0 24 24\"\n",
              "     width=\"24px\">\n",
              "    <g>\n",
              "        <path d=\"M19 3H5c-1.1 0-2 .9-2 2v14c0 1.1.9 2 2 2h14c1.1 0 2-.9 2-2V5c0-1.1-.9-2-2-2zM9 17H7v-7h2v7zm4 0h-2V7h2v10zm4 0h-2v-4h2v4z\"/>\n",
              "    </g>\n",
              "</svg>\n",
              "  </button>\n",
              "\n",
              "<style>\n",
              "  .colab-df-quickchart {\n",
              "      --bg-color: #E8F0FE;\n",
              "      --fill-color: #1967D2;\n",
              "      --hover-bg-color: #E2EBFA;\n",
              "      --hover-fill-color: #174EA6;\n",
              "      --disabled-fill-color: #AAA;\n",
              "      --disabled-bg-color: #DDD;\n",
              "  }\n",
              "\n",
              "  [theme=dark] .colab-df-quickchart {\n",
              "      --bg-color: #3B4455;\n",
              "      --fill-color: #D2E3FC;\n",
              "      --hover-bg-color: #434B5C;\n",
              "      --hover-fill-color: #FFFFFF;\n",
              "      --disabled-bg-color: #3B4455;\n",
              "      --disabled-fill-color: #666;\n",
              "  }\n",
              "\n",
              "  .colab-df-quickchart {\n",
              "    background-color: var(--bg-color);\n",
              "    border: none;\n",
              "    border-radius: 50%;\n",
              "    cursor: pointer;\n",
              "    display: none;\n",
              "    fill: var(--fill-color);\n",
              "    height: 32px;\n",
              "    padding: 0;\n",
              "    width: 32px;\n",
              "  }\n",
              "\n",
              "  .colab-df-quickchart:hover {\n",
              "    background-color: var(--hover-bg-color);\n",
              "    box-shadow: 0 1px 2px rgba(60, 64, 67, 0.3), 0 1px 3px 1px rgba(60, 64, 67, 0.15);\n",
              "    fill: var(--button-hover-fill-color);\n",
              "  }\n",
              "\n",
              "  .colab-df-quickchart-complete:disabled,\n",
              "  .colab-df-quickchart-complete:disabled:hover {\n",
              "    background-color: var(--disabled-bg-color);\n",
              "    fill: var(--disabled-fill-color);\n",
              "    box-shadow: none;\n",
              "  }\n",
              "\n",
              "  .colab-df-spinner {\n",
              "    border: 2px solid var(--fill-color);\n",
              "    border-color: transparent;\n",
              "    border-bottom-color: var(--fill-color);\n",
              "    animation:\n",
              "      spin 1s steps(1) infinite;\n",
              "  }\n",
              "\n",
              "  @keyframes spin {\n",
              "    0% {\n",
              "      border-color: transparent;\n",
              "      border-bottom-color: var(--fill-color);\n",
              "      border-left-color: var(--fill-color);\n",
              "    }\n",
              "    20% {\n",
              "      border-color: transparent;\n",
              "      border-left-color: var(--fill-color);\n",
              "      border-top-color: var(--fill-color);\n",
              "    }\n",
              "    30% {\n",
              "      border-color: transparent;\n",
              "      border-left-color: var(--fill-color);\n",
              "      border-top-color: var(--fill-color);\n",
              "      border-right-color: var(--fill-color);\n",
              "    }\n",
              "    40% {\n",
              "      border-color: transparent;\n",
              "      border-right-color: var(--fill-color);\n",
              "      border-top-color: var(--fill-color);\n",
              "    }\n",
              "    60% {\n",
              "      border-color: transparent;\n",
              "      border-right-color: var(--fill-color);\n",
              "    }\n",
              "    80% {\n",
              "      border-color: transparent;\n",
              "      border-right-color: var(--fill-color);\n",
              "      border-bottom-color: var(--fill-color);\n",
              "    }\n",
              "    90% {\n",
              "      border-color: transparent;\n",
              "      border-bottom-color: var(--fill-color);\n",
              "    }\n",
              "  }\n",
              "</style>\n",
              "\n",
              "  <script>\n",
              "    async function quickchart(key) {\n",
              "      const quickchartButtonEl =\n",
              "        document.querySelector('#' + key + ' button');\n",
              "      quickchartButtonEl.disabled = true;  // To prevent multiple clicks.\n",
              "      quickchartButtonEl.classList.add('colab-df-spinner');\n",
              "      try {\n",
              "        const charts = await google.colab.kernel.invokeFunction(\n",
              "            'suggestCharts', [key], {});\n",
              "      } catch (error) {\n",
              "        console.error('Error during call to suggestCharts:', error);\n",
              "      }\n",
              "      quickchartButtonEl.classList.remove('colab-df-spinner');\n",
              "      quickchartButtonEl.classList.add('colab-df-quickchart-complete');\n",
              "    }\n",
              "    (() => {\n",
              "      let quickchartButtonEl =\n",
              "        document.querySelector('#df-a0f5f415-8fa4-45d6-8fe7-73a70f6a1e83 button');\n",
              "      quickchartButtonEl.style.display =\n",
              "        google.colab.kernel.accessAllowed ? 'block' : 'none';\n",
              "    })();\n",
              "  </script>\n",
              "</div>\n",
              "\n",
              "    </div>\n",
              "  </div>\n"
            ],
            "application/vnd.google.colaboratory.intrinsic+json": {
              "type": "dataframe",
              "variable_name": "df"
            }
          },
          "metadata": {},
          "execution_count": 3
        }
      ]
    },
    {
      "cell_type": "code",
      "source": [
        "df.info()"
      ],
      "metadata": {
        "colab": {
          "base_uri": "https://localhost:8080/"
        },
        "id": "FFEL8J-2IVsE",
        "outputId": "6a754577-b410-4443-e576-875eaf88cdaf"
      },
      "execution_count": null,
      "outputs": [
        {
          "output_type": "stream",
          "name": "stdout",
          "text": [
            "<class 'pandas.core.frame.DataFrame'>\n",
            "RangeIndex: 1480 entries, 0 to 1479\n",
            "Data columns (total 38 columns):\n",
            " #   Column                    Non-Null Count  Dtype  \n",
            "---  ------                    --------------  -----  \n",
            " 0   EmpID                     1480 non-null   object \n",
            " 1   Age                       1480 non-null   int64  \n",
            " 2   AgeGroup                  1480 non-null   object \n",
            " 3   Attrition                 1480 non-null   object \n",
            " 4   BusinessTravel            1480 non-null   object \n",
            " 5   DailyRate                 1480 non-null   int64  \n",
            " 6   Department                1480 non-null   object \n",
            " 7   DistanceFromHome          1480 non-null   int64  \n",
            " 8   Education                 1480 non-null   int64  \n",
            " 9   EducationField            1480 non-null   object \n",
            " 10  EmployeeCount             1480 non-null   int64  \n",
            " 11  EmployeeNumber            1480 non-null   int64  \n",
            " 12  EnvironmentSatisfaction   1480 non-null   int64  \n",
            " 13  Gender                    1480 non-null   object \n",
            " 14  HourlyRate                1480 non-null   int64  \n",
            " 15  JobInvolvement            1480 non-null   int64  \n",
            " 16  JobLevel                  1480 non-null   int64  \n",
            " 17  JobRole                   1480 non-null   object \n",
            " 18  JobSatisfaction           1480 non-null   int64  \n",
            " 19  MaritalStatus             1480 non-null   object \n",
            " 20  MonthlyIncome             1480 non-null   int64  \n",
            " 21  SalarySlab                1480 non-null   object \n",
            " 22  MonthlyRate               1480 non-null   int64  \n",
            " 23  NumCompaniesWorked        1480 non-null   int64  \n",
            " 24  Over18                    1480 non-null   object \n",
            " 25  OverTime                  1480 non-null   object \n",
            " 26  PercentSalaryHike         1480 non-null   int64  \n",
            " 27  PerformanceRating         1480 non-null   int64  \n",
            " 28  RelationshipSatisfaction  1480 non-null   int64  \n",
            " 29  StandardHours             1480 non-null   int64  \n",
            " 30  StockOptionLevel          1480 non-null   int64  \n",
            " 31  TotalWorkingYears         1480 non-null   int64  \n",
            " 32  TrainingTimesLastYear     1480 non-null   int64  \n",
            " 33  WorkLifeBalance           1480 non-null   int64  \n",
            " 34  YearsAtCompany            1480 non-null   int64  \n",
            " 35  YearsInCurrentRole        1480 non-null   int64  \n",
            " 36  YearsSinceLastPromotion   1480 non-null   int64  \n",
            " 37  YearsWithCurrManager      1423 non-null   float64\n",
            "dtypes: float64(1), int64(25), object(12)\n",
            "memory usage: 439.5+ KB\n"
          ]
        }
      ]
    },
    {
      "cell_type": "code",
      "source": [
        "df.describe()\n"
      ],
      "metadata": {
        "colab": {
          "base_uri": "https://localhost:8080/",
          "height": 349
        },
        "id": "UKUvB5JAIXjg",
        "outputId": "131c6e47-59cb-45b7-f1e1-e6b4e2b94e21"
      },
      "execution_count": null,
      "outputs": [
        {
          "output_type": "execute_result",
          "data": {
            "text/plain": [
              "               Age    DailyRate  DistanceFromHome    Education  EmployeeCount  \\\n",
              "count  1480.000000  1480.000000       1480.000000  1480.000000         1480.0   \n",
              "mean     36.917568   801.384459          9.220270     2.910811            1.0   \n",
              "std       9.128559   403.126988          8.131201     1.023796            0.0   \n",
              "min      18.000000   102.000000          1.000000     1.000000            1.0   \n",
              "25%      30.000000   465.000000          2.000000     2.000000            1.0   \n",
              "50%      36.000000   800.000000          7.000000     3.000000            1.0   \n",
              "75%      43.000000  1157.000000         14.000000     4.000000            1.0   \n",
              "max      60.000000  1499.000000         29.000000     5.000000            1.0   \n",
              "\n",
              "       EmployeeNumber  EnvironmentSatisfaction   HourlyRate  JobInvolvement  \\\n",
              "count     1480.000000              1480.000000  1480.000000     1480.000000   \n",
              "mean      1031.860811                 2.724324    65.845270        2.729730   \n",
              "std        605.955046                 1.092579    20.328266        0.713007   \n",
              "min          1.000000                 1.000000    30.000000        1.000000   \n",
              "25%        493.750000                 2.000000    48.000000        2.000000   \n",
              "50%       1027.500000                 3.000000    66.000000        3.000000   \n",
              "75%       1568.250000                 4.000000    83.000000        3.000000   \n",
              "max       2068.000000                 4.000000   100.000000        4.000000   \n",
              "\n",
              "          JobLevel  ...  RelationshipSatisfaction  StandardHours  \\\n",
              "count  1480.000000  ...               1480.000000         1480.0   \n",
              "mean      2.064865  ...                  2.708784           80.0   \n",
              "std       1.105574  ...                  1.081995            0.0   \n",
              "min       1.000000  ...                  1.000000           80.0   \n",
              "25%       1.000000  ...                  2.000000           80.0   \n",
              "50%       2.000000  ...                  3.000000           80.0   \n",
              "75%       3.000000  ...                  4.000000           80.0   \n",
              "max       5.000000  ...                  4.000000           80.0   \n",
              "\n",
              "       StockOptionLevel  TotalWorkingYears  TrainingTimesLastYear  \\\n",
              "count       1480.000000        1480.000000            1480.000000   \n",
              "mean           0.791892          11.281757               2.797973   \n",
              "std            0.850527           7.770870               1.288791   \n",
              "min            0.000000           0.000000               0.000000   \n",
              "25%            0.000000           6.000000               2.000000   \n",
              "50%            1.000000          10.000000               3.000000   \n",
              "75%            1.000000          15.000000               3.000000   \n",
              "max            3.000000          40.000000               6.000000   \n",
              "\n",
              "       WorkLifeBalance  YearsAtCompany  YearsInCurrentRole  \\\n",
              "count      1480.000000     1480.000000         1480.000000   \n",
              "mean          2.760811        7.009459            4.228378   \n",
              "std           0.707024        6.117945            3.616020   \n",
              "min           1.000000        0.000000            0.000000   \n",
              "25%           2.000000        3.000000            2.000000   \n",
              "50%           3.000000        5.000000            3.000000   \n",
              "75%           3.000000        9.000000            7.000000   \n",
              "max           4.000000       40.000000           18.000000   \n",
              "\n",
              "       YearsSinceLastPromotion  YearsWithCurrManager  \n",
              "count              1480.000000           1423.000000  \n",
              "mean                  2.182432              4.118060  \n",
              "std                   3.219357              3.555484  \n",
              "min                   0.000000              0.000000  \n",
              "25%                   0.000000              2.000000  \n",
              "50%                   1.000000              3.000000  \n",
              "75%                   3.000000              7.000000  \n",
              "max                  15.000000             17.000000  \n",
              "\n",
              "[8 rows x 26 columns]"
            ],
            "text/html": [
              "\n",
              "  <div id=\"df-a0f151e0-4f5e-4e6a-aeea-ca624277ac31\" class=\"colab-df-container\">\n",
              "    <div>\n",
              "<style scoped>\n",
              "    .dataframe tbody tr th:only-of-type {\n",
              "        vertical-align: middle;\n",
              "    }\n",
              "\n",
              "    .dataframe tbody tr th {\n",
              "        vertical-align: top;\n",
              "    }\n",
              "\n",
              "    .dataframe thead th {\n",
              "        text-align: right;\n",
              "    }\n",
              "</style>\n",
              "<table border=\"1\" class=\"dataframe\">\n",
              "  <thead>\n",
              "    <tr style=\"text-align: right;\">\n",
              "      <th></th>\n",
              "      <th>Age</th>\n",
              "      <th>DailyRate</th>\n",
              "      <th>DistanceFromHome</th>\n",
              "      <th>Education</th>\n",
              "      <th>EmployeeCount</th>\n",
              "      <th>EmployeeNumber</th>\n",
              "      <th>EnvironmentSatisfaction</th>\n",
              "      <th>HourlyRate</th>\n",
              "      <th>JobInvolvement</th>\n",
              "      <th>JobLevel</th>\n",
              "      <th>...</th>\n",
              "      <th>RelationshipSatisfaction</th>\n",
              "      <th>StandardHours</th>\n",
              "      <th>StockOptionLevel</th>\n",
              "      <th>TotalWorkingYears</th>\n",
              "      <th>TrainingTimesLastYear</th>\n",
              "      <th>WorkLifeBalance</th>\n",
              "      <th>YearsAtCompany</th>\n",
              "      <th>YearsInCurrentRole</th>\n",
              "      <th>YearsSinceLastPromotion</th>\n",
              "      <th>YearsWithCurrManager</th>\n",
              "    </tr>\n",
              "  </thead>\n",
              "  <tbody>\n",
              "    <tr>\n",
              "      <th>count</th>\n",
              "      <td>1480.000000</td>\n",
              "      <td>1480.000000</td>\n",
              "      <td>1480.000000</td>\n",
              "      <td>1480.000000</td>\n",
              "      <td>1480.0</td>\n",
              "      <td>1480.000000</td>\n",
              "      <td>1480.000000</td>\n",
              "      <td>1480.000000</td>\n",
              "      <td>1480.000000</td>\n",
              "      <td>1480.000000</td>\n",
              "      <td>...</td>\n",
              "      <td>1480.000000</td>\n",
              "      <td>1480.0</td>\n",
              "      <td>1480.000000</td>\n",
              "      <td>1480.000000</td>\n",
              "      <td>1480.000000</td>\n",
              "      <td>1480.000000</td>\n",
              "      <td>1480.000000</td>\n",
              "      <td>1480.000000</td>\n",
              "      <td>1480.000000</td>\n",
              "      <td>1423.000000</td>\n",
              "    </tr>\n",
              "    <tr>\n",
              "      <th>mean</th>\n",
              "      <td>36.917568</td>\n",
              "      <td>801.384459</td>\n",
              "      <td>9.220270</td>\n",
              "      <td>2.910811</td>\n",
              "      <td>1.0</td>\n",
              "      <td>1031.860811</td>\n",
              "      <td>2.724324</td>\n",
              "      <td>65.845270</td>\n",
              "      <td>2.729730</td>\n",
              "      <td>2.064865</td>\n",
              "      <td>...</td>\n",
              "      <td>2.708784</td>\n",
              "      <td>80.0</td>\n",
              "      <td>0.791892</td>\n",
              "      <td>11.281757</td>\n",
              "      <td>2.797973</td>\n",
              "      <td>2.760811</td>\n",
              "      <td>7.009459</td>\n",
              "      <td>4.228378</td>\n",
              "      <td>2.182432</td>\n",
              "      <td>4.118060</td>\n",
              "    </tr>\n",
              "    <tr>\n",
              "      <th>std</th>\n",
              "      <td>9.128559</td>\n",
              "      <td>403.126988</td>\n",
              "      <td>8.131201</td>\n",
              "      <td>1.023796</td>\n",
              "      <td>0.0</td>\n",
              "      <td>605.955046</td>\n",
              "      <td>1.092579</td>\n",
              "      <td>20.328266</td>\n",
              "      <td>0.713007</td>\n",
              "      <td>1.105574</td>\n",
              "      <td>...</td>\n",
              "      <td>1.081995</td>\n",
              "      <td>0.0</td>\n",
              "      <td>0.850527</td>\n",
              "      <td>7.770870</td>\n",
              "      <td>1.288791</td>\n",
              "      <td>0.707024</td>\n",
              "      <td>6.117945</td>\n",
              "      <td>3.616020</td>\n",
              "      <td>3.219357</td>\n",
              "      <td>3.555484</td>\n",
              "    </tr>\n",
              "    <tr>\n",
              "      <th>min</th>\n",
              "      <td>18.000000</td>\n",
              "      <td>102.000000</td>\n",
              "      <td>1.000000</td>\n",
              "      <td>1.000000</td>\n",
              "      <td>1.0</td>\n",
              "      <td>1.000000</td>\n",
              "      <td>1.000000</td>\n",
              "      <td>30.000000</td>\n",
              "      <td>1.000000</td>\n",
              "      <td>1.000000</td>\n",
              "      <td>...</td>\n",
              "      <td>1.000000</td>\n",
              "      <td>80.0</td>\n",
              "      <td>0.000000</td>\n",
              "      <td>0.000000</td>\n",
              "      <td>0.000000</td>\n",
              "      <td>1.000000</td>\n",
              "      <td>0.000000</td>\n",
              "      <td>0.000000</td>\n",
              "      <td>0.000000</td>\n",
              "      <td>0.000000</td>\n",
              "    </tr>\n",
              "    <tr>\n",
              "      <th>25%</th>\n",
              "      <td>30.000000</td>\n",
              "      <td>465.000000</td>\n",
              "      <td>2.000000</td>\n",
              "      <td>2.000000</td>\n",
              "      <td>1.0</td>\n",
              "      <td>493.750000</td>\n",
              "      <td>2.000000</td>\n",
              "      <td>48.000000</td>\n",
              "      <td>2.000000</td>\n",
              "      <td>1.000000</td>\n",
              "      <td>...</td>\n",
              "      <td>2.000000</td>\n",
              "      <td>80.0</td>\n",
              "      <td>0.000000</td>\n",
              "      <td>6.000000</td>\n",
              "      <td>2.000000</td>\n",
              "      <td>2.000000</td>\n",
              "      <td>3.000000</td>\n",
              "      <td>2.000000</td>\n",
              "      <td>0.000000</td>\n",
              "      <td>2.000000</td>\n",
              "    </tr>\n",
              "    <tr>\n",
              "      <th>50%</th>\n",
              "      <td>36.000000</td>\n",
              "      <td>800.000000</td>\n",
              "      <td>7.000000</td>\n",
              "      <td>3.000000</td>\n",
              "      <td>1.0</td>\n",
              "      <td>1027.500000</td>\n",
              "      <td>3.000000</td>\n",
              "      <td>66.000000</td>\n",
              "      <td>3.000000</td>\n",
              "      <td>2.000000</td>\n",
              "      <td>...</td>\n",
              "      <td>3.000000</td>\n",
              "      <td>80.0</td>\n",
              "      <td>1.000000</td>\n",
              "      <td>10.000000</td>\n",
              "      <td>3.000000</td>\n",
              "      <td>3.000000</td>\n",
              "      <td>5.000000</td>\n",
              "      <td>3.000000</td>\n",
              "      <td>1.000000</td>\n",
              "      <td>3.000000</td>\n",
              "    </tr>\n",
              "    <tr>\n",
              "      <th>75%</th>\n",
              "      <td>43.000000</td>\n",
              "      <td>1157.000000</td>\n",
              "      <td>14.000000</td>\n",
              "      <td>4.000000</td>\n",
              "      <td>1.0</td>\n",
              "      <td>1568.250000</td>\n",
              "      <td>4.000000</td>\n",
              "      <td>83.000000</td>\n",
              "      <td>3.000000</td>\n",
              "      <td>3.000000</td>\n",
              "      <td>...</td>\n",
              "      <td>4.000000</td>\n",
              "      <td>80.0</td>\n",
              "      <td>1.000000</td>\n",
              "      <td>15.000000</td>\n",
              "      <td>3.000000</td>\n",
              "      <td>3.000000</td>\n",
              "      <td>9.000000</td>\n",
              "      <td>7.000000</td>\n",
              "      <td>3.000000</td>\n",
              "      <td>7.000000</td>\n",
              "    </tr>\n",
              "    <tr>\n",
              "      <th>max</th>\n",
              "      <td>60.000000</td>\n",
              "      <td>1499.000000</td>\n",
              "      <td>29.000000</td>\n",
              "      <td>5.000000</td>\n",
              "      <td>1.0</td>\n",
              "      <td>2068.000000</td>\n",
              "      <td>4.000000</td>\n",
              "      <td>100.000000</td>\n",
              "      <td>4.000000</td>\n",
              "      <td>5.000000</td>\n",
              "      <td>...</td>\n",
              "      <td>4.000000</td>\n",
              "      <td>80.0</td>\n",
              "      <td>3.000000</td>\n",
              "      <td>40.000000</td>\n",
              "      <td>6.000000</td>\n",
              "      <td>4.000000</td>\n",
              "      <td>40.000000</td>\n",
              "      <td>18.000000</td>\n",
              "      <td>15.000000</td>\n",
              "      <td>17.000000</td>\n",
              "    </tr>\n",
              "  </tbody>\n",
              "</table>\n",
              "<p>8 rows × 26 columns</p>\n",
              "</div>\n",
              "    <div class=\"colab-df-buttons\">\n",
              "\n",
              "  <div class=\"colab-df-container\">\n",
              "    <button class=\"colab-df-convert\" onclick=\"convertToInteractive('df-a0f151e0-4f5e-4e6a-aeea-ca624277ac31')\"\n",
              "            title=\"Convert this dataframe to an interactive table.\"\n",
              "            style=\"display:none;\">\n",
              "\n",
              "  <svg xmlns=\"http://www.w3.org/2000/svg\" height=\"24px\" viewBox=\"0 -960 960 960\">\n",
              "    <path d=\"M120-120v-720h720v720H120Zm60-500h600v-160H180v160Zm220 220h160v-160H400v160Zm0 220h160v-160H400v160ZM180-400h160v-160H180v160Zm440 0h160v-160H620v160ZM180-180h160v-160H180v160Zm440 0h160v-160H620v160Z\"/>\n",
              "  </svg>\n",
              "    </button>\n",
              "\n",
              "  <style>\n",
              "    .colab-df-container {\n",
              "      display:flex;\n",
              "      gap: 12px;\n",
              "    }\n",
              "\n",
              "    .colab-df-convert {\n",
              "      background-color: #E8F0FE;\n",
              "      border: none;\n",
              "      border-radius: 50%;\n",
              "      cursor: pointer;\n",
              "      display: none;\n",
              "      fill: #1967D2;\n",
              "      height: 32px;\n",
              "      padding: 0 0 0 0;\n",
              "      width: 32px;\n",
              "    }\n",
              "\n",
              "    .colab-df-convert:hover {\n",
              "      background-color: #E2EBFA;\n",
              "      box-shadow: 0px 1px 2px rgba(60, 64, 67, 0.3), 0px 1px 3px 1px rgba(60, 64, 67, 0.15);\n",
              "      fill: #174EA6;\n",
              "    }\n",
              "\n",
              "    .colab-df-buttons div {\n",
              "      margin-bottom: 4px;\n",
              "    }\n",
              "\n",
              "    [theme=dark] .colab-df-convert {\n",
              "      background-color: #3B4455;\n",
              "      fill: #D2E3FC;\n",
              "    }\n",
              "\n",
              "    [theme=dark] .colab-df-convert:hover {\n",
              "      background-color: #434B5C;\n",
              "      box-shadow: 0px 1px 3px 1px rgba(0, 0, 0, 0.15);\n",
              "      filter: drop-shadow(0px 1px 2px rgba(0, 0, 0, 0.3));\n",
              "      fill: #FFFFFF;\n",
              "    }\n",
              "  </style>\n",
              "\n",
              "    <script>\n",
              "      const buttonEl =\n",
              "        document.querySelector('#df-a0f151e0-4f5e-4e6a-aeea-ca624277ac31 button.colab-df-convert');\n",
              "      buttonEl.style.display =\n",
              "        google.colab.kernel.accessAllowed ? 'block' : 'none';\n",
              "\n",
              "      async function convertToInteractive(key) {\n",
              "        const element = document.querySelector('#df-a0f151e0-4f5e-4e6a-aeea-ca624277ac31');\n",
              "        const dataTable =\n",
              "          await google.colab.kernel.invokeFunction('convertToInteractive',\n",
              "                                                    [key], {});\n",
              "        if (!dataTable) return;\n",
              "\n",
              "        const docLinkHtml = 'Like what you see? Visit the ' +\n",
              "          '<a target=\"_blank\" href=https://colab.research.google.com/notebooks/data_table.ipynb>data table notebook</a>'\n",
              "          + ' to learn more about interactive tables.';\n",
              "        element.innerHTML = '';\n",
              "        dataTable['output_type'] = 'display_data';\n",
              "        await google.colab.output.renderOutput(dataTable, element);\n",
              "        const docLink = document.createElement('div');\n",
              "        docLink.innerHTML = docLinkHtml;\n",
              "        element.appendChild(docLink);\n",
              "      }\n",
              "    </script>\n",
              "  </div>\n",
              "\n",
              "\n",
              "<div id=\"df-bac54e23-75c0-4f88-b07d-83905d5750d9\">\n",
              "  <button class=\"colab-df-quickchart\" onclick=\"quickchart('df-bac54e23-75c0-4f88-b07d-83905d5750d9')\"\n",
              "            title=\"Suggest charts\"\n",
              "            style=\"display:none;\">\n",
              "\n",
              "<svg xmlns=\"http://www.w3.org/2000/svg\" height=\"24px\"viewBox=\"0 0 24 24\"\n",
              "     width=\"24px\">\n",
              "    <g>\n",
              "        <path d=\"M19 3H5c-1.1 0-2 .9-2 2v14c0 1.1.9 2 2 2h14c1.1 0 2-.9 2-2V5c0-1.1-.9-2-2-2zM9 17H7v-7h2v7zm4 0h-2V7h2v10zm4 0h-2v-4h2v4z\"/>\n",
              "    </g>\n",
              "</svg>\n",
              "  </button>\n",
              "\n",
              "<style>\n",
              "  .colab-df-quickchart {\n",
              "      --bg-color: #E8F0FE;\n",
              "      --fill-color: #1967D2;\n",
              "      --hover-bg-color: #E2EBFA;\n",
              "      --hover-fill-color: #174EA6;\n",
              "      --disabled-fill-color: #AAA;\n",
              "      --disabled-bg-color: #DDD;\n",
              "  }\n",
              "\n",
              "  [theme=dark] .colab-df-quickchart {\n",
              "      --bg-color: #3B4455;\n",
              "      --fill-color: #D2E3FC;\n",
              "      --hover-bg-color: #434B5C;\n",
              "      --hover-fill-color: #FFFFFF;\n",
              "      --disabled-bg-color: #3B4455;\n",
              "      --disabled-fill-color: #666;\n",
              "  }\n",
              "\n",
              "  .colab-df-quickchart {\n",
              "    background-color: var(--bg-color);\n",
              "    border: none;\n",
              "    border-radius: 50%;\n",
              "    cursor: pointer;\n",
              "    display: none;\n",
              "    fill: var(--fill-color);\n",
              "    height: 32px;\n",
              "    padding: 0;\n",
              "    width: 32px;\n",
              "  }\n",
              "\n",
              "  .colab-df-quickchart:hover {\n",
              "    background-color: var(--hover-bg-color);\n",
              "    box-shadow: 0 1px 2px rgba(60, 64, 67, 0.3), 0 1px 3px 1px rgba(60, 64, 67, 0.15);\n",
              "    fill: var(--button-hover-fill-color);\n",
              "  }\n",
              "\n",
              "  .colab-df-quickchart-complete:disabled,\n",
              "  .colab-df-quickchart-complete:disabled:hover {\n",
              "    background-color: var(--disabled-bg-color);\n",
              "    fill: var(--disabled-fill-color);\n",
              "    box-shadow: none;\n",
              "  }\n",
              "\n",
              "  .colab-df-spinner {\n",
              "    border: 2px solid var(--fill-color);\n",
              "    border-color: transparent;\n",
              "    border-bottom-color: var(--fill-color);\n",
              "    animation:\n",
              "      spin 1s steps(1) infinite;\n",
              "  }\n",
              "\n",
              "  @keyframes spin {\n",
              "    0% {\n",
              "      border-color: transparent;\n",
              "      border-bottom-color: var(--fill-color);\n",
              "      border-left-color: var(--fill-color);\n",
              "    }\n",
              "    20% {\n",
              "      border-color: transparent;\n",
              "      border-left-color: var(--fill-color);\n",
              "      border-top-color: var(--fill-color);\n",
              "    }\n",
              "    30% {\n",
              "      border-color: transparent;\n",
              "      border-left-color: var(--fill-color);\n",
              "      border-top-color: var(--fill-color);\n",
              "      border-right-color: var(--fill-color);\n",
              "    }\n",
              "    40% {\n",
              "      border-color: transparent;\n",
              "      border-right-color: var(--fill-color);\n",
              "      border-top-color: var(--fill-color);\n",
              "    }\n",
              "    60% {\n",
              "      border-color: transparent;\n",
              "      border-right-color: var(--fill-color);\n",
              "    }\n",
              "    80% {\n",
              "      border-color: transparent;\n",
              "      border-right-color: var(--fill-color);\n",
              "      border-bottom-color: var(--fill-color);\n",
              "    }\n",
              "    90% {\n",
              "      border-color: transparent;\n",
              "      border-bottom-color: var(--fill-color);\n",
              "    }\n",
              "  }\n",
              "</style>\n",
              "\n",
              "  <script>\n",
              "    async function quickchart(key) {\n",
              "      const quickchartButtonEl =\n",
              "        document.querySelector('#' + key + ' button');\n",
              "      quickchartButtonEl.disabled = true;  // To prevent multiple clicks.\n",
              "      quickchartButtonEl.classList.add('colab-df-spinner');\n",
              "      try {\n",
              "        const charts = await google.colab.kernel.invokeFunction(\n",
              "            'suggestCharts', [key], {});\n",
              "      } catch (error) {\n",
              "        console.error('Error during call to suggestCharts:', error);\n",
              "      }\n",
              "      quickchartButtonEl.classList.remove('colab-df-spinner');\n",
              "      quickchartButtonEl.classList.add('colab-df-quickchart-complete');\n",
              "    }\n",
              "    (() => {\n",
              "      let quickchartButtonEl =\n",
              "        document.querySelector('#df-bac54e23-75c0-4f88-b07d-83905d5750d9 button');\n",
              "      quickchartButtonEl.style.display =\n",
              "        google.colab.kernel.accessAllowed ? 'block' : 'none';\n",
              "    })();\n",
              "  </script>\n",
              "</div>\n",
              "\n",
              "    </div>\n",
              "  </div>\n"
            ],
            "application/vnd.google.colaboratory.intrinsic+json": {
              "type": "dataframe"
            }
          },
          "metadata": {},
          "execution_count": 5
        }
      ]
    },
    {
      "cell_type": "markdown",
      "source": [
        "# Step 4: Descriptive Analytics\n",
        "\n"
      ],
      "metadata": {
        "id": "d19Are5vI24G"
      }
    },
    {
      "cell_type": "code",
      "source": [
        "# 4.1 Average turnover rate by department\n",
        "# Converting 'Attrition' column to numerical (0 for No, 1 for Yes)\n",
        "df['Attrition'] = df['Attrition'].map({'No': 0, 'Yes': 1})\n",
        "\n",
        "# Now calculate the average turnover rate by department\n",
        "turnover_rate = df.groupby('Department')['Attrition'].mean()\n",
        "print(\"Average Turnover Rate by Department:\\n\", turnover_rate)"
      ],
      "metadata": {
        "colab": {
          "base_uri": "https://localhost:8080/"
        },
        "id": "44HNRsmkIxmf",
        "outputId": "45fd5f9a-ae4e-447e-81be-65c192e925de"
      },
      "execution_count": null,
      "outputs": [
        {
          "output_type": "stream",
          "name": "stdout",
          "text": [
            "Average Turnover Rate by Department:\n",
            " Department\n",
            "Human Resources           0.190476\n",
            "Research & Development    0.137539\n",
            "Sales                     0.206667\n",
            "Name: Attrition, dtype: float64\n"
          ]
        }
      ]
    },
    {
      "cell_type": "code",
      "source": [
        "# 4.2 Average performance ratings by department\n",
        "performance_rating = df.groupby('Department')['PerformanceRating'].mean()\n",
        "print(\"\\nAverage Performance Rating by Department:\\n\", performance_rating)"
      ],
      "metadata": {
        "colab": {
          "base_uri": "https://localhost:8080/"
        },
        "id": "ny8C-79pJ-j1",
        "outputId": "42c169a4-0abd-45b9-8652-1cad39ec33af"
      },
      "execution_count": null,
      "outputs": [
        {
          "output_type": "stream",
          "name": "stdout",
          "text": [
            "\n",
            "Average Performance Rating by Department:\n",
            " Department\n",
            "Human Resources           3.142857\n",
            "Research & Development    3.162358\n",
            "Sales                     3.135556\n",
            "Name: PerformanceRating, dtype: float64\n"
          ]
        }
      ]
    },
    {
      "cell_type": "code",
      "source": [
        "# Visualization\n",
        "plt.figure(figsize=(10, 5))\n",
        "turnover_rate.plot(kind='bar', color='skyblue', title='Average Turnover Rate by Department')\n",
        "plt.ylabel('Turnover Rate')\n",
        "plt.show()\n",
        "plt.figure(figsize=(10, 5))\n",
        "performance_rating.plot(kind='bar', color='salmon', title='Average Performance Rating by Department')\n",
        "plt.ylabel('Performance Rating')\n",
        "plt.show()"
      ],
      "metadata": {
        "colab": {
          "base_uri": "https://localhost:8080/",
          "height": 1000
        },
        "id": "pMLonFt9KCgz",
        "outputId": "49dca809-9865-4ce0-cc5a-1c6fe1fb9836"
      },
      "execution_count": null,
      "outputs": [
        {
          "output_type": "display_data",
          "data": {
            "text/plain": [
              "<Figure size 1000x500 with 1 Axes>"
            ],
            "image/png": "[encoded data removed]"
          },
          "metadata": {}
        },
        {
          "output_type": "display_data",
          "data": {
            "text/plain": [
              "<Figure size 1000x500 with 1 Axes>"
            ],
            "image/png": "[encoded data removed]"
          },
          "metadata": {}
        }
      ]
    },
    {
      "cell_type": "markdown",
      "source": [
        "Departments with higher turnover rates may indicate areas where HR could focus retention strategies.\n",
        "For example, if \"Sales\" has high turnover, HR could investigate role satisfaction, workload, or compensation.\n"
      ],
      "metadata": {
        "id": "EcCWaW0fM-3M"
      }
    },
    {
      "cell_type": "markdown",
      "source": [
        "# Step 5: Data Preprocessing for Predictive Analytics\n"
      ],
      "metadata": {
        "id": "brM43dqoKR5n"
      }
    },
    {
      "cell_type": "code",
      "source": [
        "# Label encode Attrition (target variable)\n",
        "df['Attrition'] = LabelEncoder().fit_transform(df['Attrition'])"
      ],
      "metadata": {
        "id": "gb_HHoIiKQmr"
      },
      "execution_count": null,
      "outputs": []
    },
    {
      "cell_type": "code",
      "source": [
        "# One-hot encode categorical features\n",
        "df = pd.get_dummies(df, drop_first=True)\n"
      ],
      "metadata": {
        "id": "lIq5YVMKKZI_"
      },
      "execution_count": null,
      "outputs": []
    },
    {
      "cell_type": "code",
      "source": [
        "# Split dataset into training and testing sets\n",
        "X = df.drop('Attrition', axis=1)\n",
        "y = df['Attrition']\n",
        "X_train, X_test, y_train, y_test = train_test_split(X, y, test_size=0.3, random_state=42)\n"
      ],
      "metadata": {
        "id": "ICdFtFzPKdXc"
      },
      "execution_count": null,
      "outputs": []
    },
    {
      "cell_type": "code",
      "source": [
        "# Scale features\n",
        "scaler = StandardScaler()\n",
        "X_train = scaler.fit_transform(X_train)\n",
        "X_test = scaler.transform(X_test)"
      ],
      "metadata": {
        "id": "wD7XGGYOKer-"
      },
      "execution_count": null,
      "outputs": []
    },
    {
      "cell_type": "markdown",
      "source": [
        "# Step 6: Predictive Analytics - Model Building\n"
      ],
      "metadata": {
        "id": "6kpeH6OgLQN8"
      }
    },
    {
      "cell_type": "code",
      "source": [
        "model = RandomForestClassifier(random_state=42)\n",
        "model.fit(X_train, y_train)\n",
        "y_pred = model.predict(X_test)"
      ],
      "metadata": {
        "id": "IxVkwTH_KiHU"
      },
      "execution_count": null,
      "outputs": []
    },
    {
      "cell_type": "code",
      "source": [
        "# Model Evaluation\n",
        "print(\"Classification Report:\\n\", classification_report(y_test, y_pred))\n",
        "print(\"Confusion Matrix:\\n\", confusion_matrix(y_test, y_pred))\n"
      ],
      "metadata": {
        "colab": {
          "base_uri": "https://localhost:8080/"
        },
        "id": "tYykVSPCLWFU",
        "outputId": "ed9e8db0-f92c-4310-fab3-dd96996e7b8b"
      },
      "execution_count": null,
      "outputs": [
        {
          "output_type": "stream",
          "name": "stdout",
          "text": [
            "Classification Report:\n",
            "               precision    recall  f1-score   support\n",
            "\n",
            "           0       0.85      1.00      0.92       373\n",
            "           1       1.00      0.07      0.13        71\n",
            "\n",
            "    accuracy                           0.85       444\n",
            "   macro avg       0.92      0.54      0.53       444\n",
            "weighted avg       0.87      0.85      0.79       444\n",
            "\n",
            "Confusion Matrix:\n",
            " [[373   0]\n",
            " [ 66   5]]\n"
          ]
        }
      ]
    },
    {
      "cell_type": "markdown",
      "source": [
        "# Step 7: Analyze Correlation between Engagement and Performance\n",
        "italicized text"
      ],
      "metadata": {
        "id": "zcRlHliuNcvb"
      }
    },
    {
      "cell_type": "code",
      "source": [
        "# Assuming 'JobSatisfaction' and 'PerformanceRating' are part of the dataset\n",
        "plt.figure(figsize=(8, 6))\n",
        "sns.boxplot(x='Attrition', y='JobSatisfaction', data=df, palette='pastel')\n",
        "plt.title('Job Satisfaction by Attrition')\n",
        "plt.ylabel('Job Satisfaction')\n",
        "plt.show()"
      ],
      "metadata": {
        "colab": {
          "base_uri": "https://localhost:8080/",
          "height": 564
        },
        "id": "dwqLcPMWNeM1",
        "outputId": "360145ff-f503-4004-d504-f6a091e8c08f"
      },
      "execution_count": null,
      "outputs": [
        {
          "output_type": "display_data",
          "data": {
            "text/plain": [
              "<Figure size 800x600 with 1 Axes>"
            ],
            "image/png": "[encoded data removed]"
          },
          "metadata": {}
        }
      ]
    },
    {
      "cell_type": "markdown",
      "source": [
        "Insight:\n",
        "If Job Satisfaction is lower for employees who left, this highlights the importance of engagement in retention.\n",
        "Strategies could involve employee engagement programs, mentorship, or recognition initiatives.\n"
      ],
      "metadata": {
        "id": "QmMigQM1NlH2"
      }
    },
    {
      "cell_type": "markdown",
      "source": [],
      "metadata": {
        "id": "jH5KnFZvQrPR"
      }
    },
    {
      "cell_type": "markdown",
      "source": [
        "# Step 8: Recruitment Data Patterns (e.g., Age and Hiring Source Influence on Attrition)\n"
      ],
      "metadata": {
        "id": "Feu7qsIKNqeg"
      }
    },
    {
      "cell_type": "code",
      "source": [
        "# Plot Age by Attrition\n",
        "plt.figure(figsize=(10, 6))\n",
        "sns.histplot(data=df, x=\"Age\", hue=\"Attrition\", multiple=\"stack\", palette=\"pastel\", kde=True)\n",
        "plt.title('Age Distribution by Attrition')\n",
        "plt.show()"
      ],
      "metadata": {
        "colab": {
          "base_uri": "https://localhost:8080/",
          "height": 564
        },
        "id": "5iJ_qN0BNusb",
        "outputId": "cfd8c8c2-1275-40d2-fcd5-9c2b92c8c53b"
      },
      "execution_count": null,
      "outputs": [
        {
          "output_type": "display_data",
          "data": {
            "text/plain": [
              "<Figure size 1000x600 with 1 Axes>"
            ],
            "image/png": "[encoded data removed]"
          },
          "metadata": {}
        }
      ]
    },
    {
      "cell_type": "markdown",
      "source": [
        "Insight:\n",
        "If younger employees show higher attrition, HR could develop targeted onboarding or career development plans.\n",
        "This can make roles more attractive and align with long-term career progression."
      ],
      "metadata": {
        "id": "6kgEvzA7N5cK"
      }
    },
    {
      "cell_type": "markdown",
      "source": [
        "# Step 9: Feature Importance (Insights for Prescriptive Analytics)\n"
      ],
      "metadata": {
        "id": "t8kNOacLLcMf"
      }
    },
    {
      "cell_type": "code",
      "source": [
        "feature_importances = pd.Series(model.feature_importances_, index=X.columns).sort_values(ascending=False)\n",
        "print(\"\\nTop 10 Important Features:\\n\", feature_importances.head(10))"
      ],
      "metadata": {
        "colab": {
          "base_uri": "https://localhost:8080/"
        },
        "id": "dAtyuIfKLaPw",
        "outputId": "a7189ec9-f0fb-4d69-b1e0-759e7693c548"
      },
      "execution_count": null,
      "outputs": [
        {
          "output_type": "stream",
          "name": "stdout",
          "text": [
            "\n",
            "Top 10 Important Features:\n",
            " Age                     0.040625\n",
            "MonthlyIncome           0.039290\n",
            "EmployeeNumber          0.034288\n",
            "OverTime_Yes            0.033874\n",
            "TotalWorkingYears       0.032628\n",
            "DailyRate               0.031478\n",
            "MonthlyRate             0.031086\n",
            "YearsAtCompany          0.030828\n",
            "DistanceFromHome        0.029940\n",
            "YearsWithCurrManager    0.029612\n",
            "dtype: float64\n"
          ]
        }
      ]
    },
    {
      "cell_type": "code",
      "source": [
        "# Visualize Feature Importances\n",
        "plt.figure(figsize=(10, 8))\n",
        "feature_importances.head(10).plot(kind='barh', color='steelblue')\n",
        "plt.title('Top 10 Important Features Influencing Attrition')\n",
        "plt.xlabel('Feature Importance Score')\n",
        "plt.show()"
      ],
      "metadata": {
        "colab": {
          "base_uri": "https://localhost:8080/",
          "height": 718
        },
        "id": "Y8csk_7YLiKD",
        "outputId": "4b2f4e19-c27e-4daf-9e75-30f180b27c48"
      },
      "execution_count": null,
      "outputs": [
        {
          "output_type": "display_data",
          "data": {
            "text/plain": [
              "<Figure size 1000x800 with 1 Axes>"
            ],
            "image/png": "[encoded data removed]"
          },
          "metadata": {}
        }
      ]
    },
    {
      "cell_type": "markdown",
      "source": [
        "# Step 10: Prescriptive Analytics - Recommendations\n"
      ],
      "metadata": {
        "id": "AKfwMNv0L3Wv"
      }
    },
    {
      "cell_type": "code",
      "source": [
        "# Based on top features, provide recommendations for HR strategies\n",
        "print(\"Prescriptive Recommendations:\\n\")\n",
        "if 'OverTime_Yes' in feature_importances.head(10):\n",
        "    print(\"- High attrition rates are associated with overtime. Consider reducing overtime to retain employees.\")\n",
        "if 'JobSatisfaction' in feature_importances.head(10):\n",
        "    print(\"- Job satisfaction is a critical factor. Implement programs to enhance job satisfaction.\")\n",
        "if 'MonthlyIncome' in feature_importances.head(10):\n",
        "    print(\"- Low income correlates with higher attrition. Consider revising compensation structures.\")"
      ],
      "metadata": {
        "colab": {
          "base_uri": "https://localhost:8080/"
        },
        "id": "Mqaktp_-Llv1",
        "outputId": "dce0fbdd-6826-43e4-aa02-95e06b8266cb"
      },
      "execution_count": null,
      "outputs": [
        {
          "output_type": "stream",
          "name": "stdout",
          "text": [
            "Prescriptive Recommendations:\n",
            "\n",
            "- High attrition rates are associated with overtime. Consider reducing overtime to retain employees.\n",
            "- Low income correlates with higher attrition. Consider revising compensation structures.\n"
          ]
        }
      ]
    }
  ]
}